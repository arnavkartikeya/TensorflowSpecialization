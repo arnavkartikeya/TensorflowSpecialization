{
  "nbformat": 4,
  "nbformat_minor": 0,
  "metadata": {
    "colab": {
      "provenance": []
    },
    "kernelspec": {
      "name": "python3",
      "display_name": "Python 3"
    },
    "language_info": {
      "name": "python"
    }
  },
  "cells": [
    {
      "cell_type": "code",
      "execution_count": 1,
      "metadata": {
        "id": "KE6NzIZIwkO3"
      },
      "outputs": [],
      "source": [
        "import tensorflow as tf "
      ]
    },
    {
      "cell_type": "code",
      "source": [
        "#an actual residual block, needs init and call \n",
        "#init defines all the layesr \n",
        "class ResNetBlock(tf.keras.Model):\n",
        "  def __init__(self, filters, kernel_size):\n",
        "\n",
        "    super(ResNetBlock, self).__init__(name='')\n",
        "    self.filters = filters\n",
        "    self.kernel_size = kernel_size; \n",
        "\n",
        "    self.conv_layer1 = tf.keras.layers.Conv2D(self.filters, self.kernel_size, padding='same')\n",
        "    self.batch_norm1 = tf.keras.layers.BatchNormalization()\n",
        "\n",
        "    self.conv_layer2 = tf.keras.layers.Conv2D(self.filters, self.kernel_size, padding='same')\n",
        "    self.batch_norm2 = tf.keras.layers.BatchNormalization()\n",
        "\n",
        "    self.activation = tf.keras.layers.Activation('relu') \n",
        "    self.add = tf.keras.layers.Add()\n",
        "\n",
        "  \n",
        "  def call(self, input_tensor):\n",
        "\n",
        "    x = self.conv_layer1(input_tensor)\n",
        "    x = self.batch_norm1(x)\n",
        "    x = self.conv_layer2(x)\n",
        "    x = self.batch_norm2(x)\n",
        "    x = self.add([x, input_tensor])\n",
        "    x = self.activation(x)\n",
        "\n",
        "    return x \n"
      ],
      "metadata": {
        "id": "g5CHIsQEwoMF"
      },
      "execution_count": 2,
      "outputs": []
    },
    {
      "cell_type": "code",
      "source": [
        "class ResNet(tf.keras.Model):\n",
        "  def __init__(self, num_classes):\n",
        "    super(ResNet, self).__init__(name='')\n",
        "    # we need convolution followed by max pool into resnet blocks into global pool into fully connnected network\n",
        "    self.conv1 = tf.keras.layers.Conv2D(64, 7)\n",
        "    self.activation_1 = tf.keras.layers.Activation('relu')\n",
        "    self.maxpool2d_1 = tf.keras.layers.MaxPool2D(pool_size=(2,2))\n",
        "\n",
        "    self.block1 = ResNetBlock(64, 3)\n",
        "    self.block2 = ResNetBlock(64, 3)\n",
        "\n",
        "    self.global_pool = tf.keras.layers.GlobalAveragePooling2D() \n",
        "    self.dense = tf.keras.layers.Dense(num_classes, activation='softmax')\n",
        "\n",
        "  def call(self, input):\n",
        "    x = self.conv1(input)\n",
        "    x = self.activation_1(x)\n",
        "    x = self.maxpool2d_1(x)\n",
        "\n",
        "    x = self.block1(x)\n",
        "    x = self.block2(x)\n",
        "\n",
        "    x = self.global_pool(x)\n",
        "    x = self.dense(x)\n",
        "\n",
        "    return x "
      ],
      "metadata": {
        "id": "Jom3Iwl-xaXK"
      },
      "execution_count": 3,
      "outputs": []
    },
    {
      "cell_type": "code",
      "source": [
        "(x_train, y_train), (x_test, y_test) = tf.keras.datasets.mnist.load_data()"
      ],
      "metadata": {
        "colab": {
          "base_uri": "https://localhost:8080/"
        },
        "id": "bpuSUaGw2kY2",
        "outputId": "eaba1b14-39c1-4d2f-b088-ec81fc2d9e2f"
      },
      "execution_count": 4,
      "outputs": [
        {
          "output_type": "stream",
          "name": "stdout",
          "text": [
            "Downloading data from https://storage.googleapis.com/tensorflow/tf-keras-datasets/mnist.npz\n",
            "11490434/11490434 [==============================] - 0s 0us/step\n"
          ]
        }
      ]
    },
    {
      "cell_type": "code",
      "source": [
        "import numpy as np\n",
        "length, height, width, channels = x_train.shape[0], x_train.shape[1], x_train.shape[2], 1 \n",
        "x_train = np.reshape(x_train, (length, height, width, channels))\n",
        "length, height, width, channels = x_test.shape[0], x_test.shape[1], x_test.shape[2], 1\n",
        "x_test = np.reshape(x_test, (length, height, width, channels))"
      ],
      "metadata": {
        "id": "T6PC4y3ppATl"
      },
      "execution_count": 22,
      "outputs": []
    },
    {
      "cell_type": "code",
      "source": [
        "x_train = tf.cast(x_train, tf.float32) / 255. \n",
        "x_test = tf.cast(x_test, tf.float32) / 255. "
      ],
      "metadata": {
        "id": "in27W9QkqD4Z"
      },
      "execution_count": 26,
      "outputs": []
    },
    {
      "cell_type": "code",
      "source": [
        "import matplotlib.pyplot as plt \n",
        "plt.imshow(x_train[0])"
      ],
      "metadata": {
        "colab": {
          "base_uri": "https://localhost:8080/",
          "height": 447
        },
        "id": "OmrnhRvB2w6f",
        "outputId": "23469df1-f971-443c-fc84-7b462b2f1ae7"
      },
      "execution_count": 29,
      "outputs": [
        {
          "output_type": "execute_result",
          "data": {
            "text/plain": [
              "<matplotlib.image.AxesImage at 0x7fc586873280>"
            ]
          },
          "metadata": {},
          "execution_count": 29
        },
        {
          "output_type": "display_data",
          "data": {
            "text/plain": [
              "<Figure size 640x480 with 1 Axes>"
            ],
            "image/png": "[encoded data removed]"
          },
          "metadata": {}
        }
      ]
    },
    {
      "cell_type": "code",
      "source": [
        "model = ResNet(10)\n",
        "#need sparse categorical because did not change labels to 1 hot encoding\n",
        "model.compile(optimizer='adam', loss='sparse_categorical_crossentropy', metrics=['accuracy'])\n",
        "history = model.fit(x=x_train, y=y_train, batch_size=32, epochs=1, validation_data=(x_test, y_test))"
      ],
      "metadata": {
        "colab": {
          "base_uri": "https://localhost:8080/"
        },
        "id": "9LsryabO43Pi",
        "outputId": "d506f76c-769c-43ea-a35a-dbd16f03d26d"
      },
      "execution_count": 28,
      "outputs": [
        {
          "output_type": "stream",
          "name": "stdout",
          "text": [
            "1875/1875 [==============================] - 187s 99ms/step - loss: 0.1443 - accuracy: 0.9640 - val_loss: 0.0811 - val_accuracy: 0.9743\n"
          ]
        }
      ]
    },
    {
      "cell_type": "code",
      "source": [
        "ind = 78\n",
        "pred = model.predict(tf.Variable([x_train[ind]]))\n",
        "plt.imshow(x_train[ind])\n",
        "print(\"Label: \", y_train[ind])\n",
        "print(\"Prediction: \", np.argmax(pred))"
      ],
      "metadata": {
        "colab": {
          "base_uri": "https://localhost:8080/",
          "height": 482
        },
        "id": "3F--3nLE6Ehq",
        "outputId": "457eace2-e3d3-4acf-a671-02441491cca8"
      },
      "execution_count": 38,
      "outputs": [
        {
          "output_type": "stream",
          "name": "stdout",
          "text": [
            "1/1 [==============================] - 0s 16ms/step\n",
            "Label:  1\n",
            "Prediction:  1\n"
          ]
        },
        {
          "output_type": "display_data",
          "data": {
            "text/plain": [
              "<Figure size 640x480 with 1 Axes>"
            ],
            "image/png": "[encoded data removed]"
          },
          "metadata": {}
        }
      ]
    },
    {
      "cell_type": "code",
      "source": [],
      "metadata": {
        "id": "VCHmJa1muMJt"
      },
      "execution_count": null,
      "outputs": []
    }
  ]
}